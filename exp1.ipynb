{
  "nbformat": 4,
  "nbformat_minor": 0,
  "metadata": {
    "colab": {
      "provenance": [],
      "authorship_tag": "ABX9TyPIpLmW6eIx+eqSE8HXEFVF",
      "include_colab_link": true
    },
    "kernelspec": {
      "name": "python3",
      "display_name": "Python 3"
    },
    "language_info": {
      "name": "python"
    }
  },
  "cells": [
    {
      "cell_type": "markdown",
      "metadata": {
        "id": "view-in-github",
        "colab_type": "text"
      },
      "source": [
        "<a href=\"https://colab.research.google.com/github/darshannayak21/pds/blob/main/exp1.ipynb\" target=\"_parent\"><img src=\"https://colab.research.google.com/assets/colab-badge.svg\" alt=\"Open In Colab\"/></a>"
      ]
    },
    {
      "cell_type": "code",
      "execution_count": null,
      "metadata": {
        "colab": {
          "base_uri": "https://localhost:8080/"
        },
        "id": "zhur6kg1m_db",
        "outputId": "5475e40a-fa1b-40e0-a6d0-874d1f1adfbb"
      },
      "outputs": [
        {
          "output_type": "stream",
          "name": "stdout",
          "text": [
            "Cloning into 'pds'...\n",
            "remote: Enumerating objects: 4, done.\u001b[K\n",
            "remote: Counting objects: 100% (4/4), done.\u001b[K\n",
            "remote: Compressing objects: 100% (4/4), done.\u001b[K\n",
            "remote: Total 4 (delta 0), reused 0 (delta 0), pack-reused 0 (from 0)\u001b[K\n",
            "Receiving objects: 100% (4/4), 92.77 KiB | 2.26 MiB/s, done.\n"
          ]
        }
      ],
      "source": [
        "!git clone https://github.com/darshannayak21/pds.git\n"
      ]
    },
    {
      "cell_type": "markdown",
      "source": [
        "Download 2 datasets\n",
        "Import neccessary libraries( here numpy & pandas )\n",
        "Read the two CSV files\n",
        "Merge the two datasets on two common columns present in the two daatsets using the in built merge() function in python\n",
        "Concat the two datasets using the concat funtion in python\n"
      ],
      "metadata": {
        "id": "35k2i78qeMTp"
      }
    },
    {
      "cell_type": "code",
      "source": [
        "import pandas as pd\n",
        "\n",
        "\n",
        "url1 = \"/content/sample_data/california_housing_test.csv\"\n",
        "url2 = \"/content/sample_data/california_housing_train.csv\"\n",
        "dataset = pd.read_csv(url1)\n",
        "dataset2 = pd.read_csv(url2)\n",
        "dataset_sample=dataset.sample(n=5, random_state=42)\n",
        "print(dataset_sample)\n",
        "dataset_sample2=dataset2.sample(n=5, random_state=30)\n",
        "print(dataset_sample2)\n",
        "con_dataset = pd.concat([dataset, dataset2])\n",
        "#print(con_dataset.head())\n",
        "con_datasetsample = pd.concat([dataset_sample, dataset_sample2])\n",
        "print(con_datasetsample)\n",
        "#merged\n",
        "merged_dataset = pd.merge(dataset, dataset2, on='longitude')\n",
        "print(merged_dataset)\n"
      ],
      "metadata": {
        "id": "g9R322jcnWY0",
        "colab": {
          "base_uri": "https://localhost:8080/"
        },
        "outputId": "d88f119d-ec2e-4856-bace-9586c5e4e24e"
      },
      "execution_count": 1,
      "outputs": [
        {
          "output_type": "stream",
          "name": "stdout",
          "text": [
            "      longitude  latitude  housing_median_age  total_rooms  total_bedrooms  \\\n",
            "1801    -121.68     37.93                44.0       1014.0           225.0   \n",
            "1190    -117.28     34.26                18.0       3895.0           689.0   \n",
            "1817    -122.10     37.61                35.0       2361.0           458.0   \n",
            "251     -118.29     33.88                36.0       1751.0           438.0   \n",
            "2505    -118.40     33.99                39.0       1613.0           380.0   \n",
            "\n",
            "      population  households  median_income  median_house_value  \n",
            "1801       704.0       238.0         1.6554            119400.0  \n",
            "1190      1086.0       375.0         3.3672            133600.0  \n",
            "1817      1727.0       467.0         4.5281            173600.0  \n",
            "251       1175.0       419.0         3.0739            218600.0  \n",
            "2505      1113.0       356.0         2.8250            276700.0  \n",
            "       longitude  latitude  housing_median_age  total_rooms  total_bedrooms  \\\n",
            "10914    -120.85     37.51                 5.0       2899.0           745.0   \n",
            "6241     -118.25     34.23                37.0       1954.0           368.0   \n",
            "5904     -118.20     33.79                47.0       2549.0           626.0   \n",
            "9578     -119.35     36.52                39.0       3027.0           608.0   \n",
            "9444     -119.25     34.30                34.0       1189.0           220.0   \n",
            "\n",
            "       population  households  median_income  median_house_value  \n",
            "10914      1593.0       633.0         2.2292            127500.0  \n",
            "6241        967.0       370.0         5.0862            261300.0  \n",
            "5904       1388.0       606.0         3.0135            192700.0  \n",
            "9578       2199.0       592.0         2.6445             62000.0  \n",
            "9444        445.0       203.0         4.8824            396400.0  \n",
            "       longitude  latitude  housing_median_age  total_rooms  total_bedrooms  \\\n",
            "1801     -121.68     37.93                44.0       1014.0           225.0   \n",
            "1190     -117.28     34.26                18.0       3895.0           689.0   \n",
            "1817     -122.10     37.61                35.0       2361.0           458.0   \n",
            "251      -118.29     33.88                36.0       1751.0           438.0   \n",
            "2505     -118.40     33.99                39.0       1613.0           380.0   \n",
            "10914    -120.85     37.51                 5.0       2899.0           745.0   \n",
            "6241     -118.25     34.23                37.0       1954.0           368.0   \n",
            "5904     -118.20     33.79                47.0       2549.0           626.0   \n",
            "9578     -119.35     36.52                39.0       3027.0           608.0   \n",
            "9444     -119.25     34.30                34.0       1189.0           220.0   \n",
            "\n",
            "       population  households  median_income  median_house_value  \n",
            "1801        704.0       238.0         1.6554            119400.0  \n",
            "1190       1086.0       375.0         3.3672            133600.0  \n",
            "1817       1727.0       467.0         4.5281            173600.0  \n",
            "251        1175.0       419.0         3.0739            218600.0  \n",
            "2505       1113.0       356.0         2.8250            276700.0  \n",
            "10914      1593.0       633.0         2.2292            127500.0  \n",
            "6241        967.0       370.0         5.0862            261300.0  \n",
            "5904       1388.0       606.0         3.0135            192700.0  \n",
            "9578       2199.0       592.0         2.6445             62000.0  \n",
            "9444        445.0       203.0         4.8824            396400.0  \n",
            "        longitude  latitude_x  housing_median_age_x  total_rooms_x  \\\n",
            "0         -122.05       37.37                  27.0         3885.0   \n",
            "1         -122.05       37.37                  27.0         3885.0   \n",
            "2         -122.05       37.37                  27.0         3885.0   \n",
            "3         -122.05       37.37                  27.0         3885.0   \n",
            "4         -122.05       37.37                  27.0         3885.0   \n",
            "...           ...         ...                   ...            ...   \n",
            "152545    -119.63       34.42                  42.0         1765.0   \n",
            "152546    -119.63       34.42                  42.0         1765.0   \n",
            "152547    -119.63       34.42                  42.0         1765.0   \n",
            "152548    -119.63       34.42                  42.0         1765.0   \n",
            "152549    -119.63       34.42                  42.0         1765.0   \n",
            "\n",
            "        total_bedrooms_x  population_x  households_x  median_income_x  \\\n",
            "0                  661.0        1537.0         606.0           6.6085   \n",
            "1                  661.0        1537.0         606.0           6.6085   \n",
            "2                  661.0        1537.0         606.0           6.6085   \n",
            "3                  661.0        1537.0         606.0           6.6085   \n",
            "4                  661.0        1537.0         606.0           6.6085   \n",
            "...                  ...           ...           ...              ...   \n",
            "152545             263.0         753.0         260.0           8.5608   \n",
            "152546             263.0         753.0         260.0           8.5608   \n",
            "152547             263.0         753.0         260.0           8.5608   \n",
            "152548             263.0         753.0         260.0           8.5608   \n",
            "152549             263.0         753.0         260.0           8.5608   \n",
            "\n",
            "        median_house_value_x  latitude_y  housing_median_age_y  total_rooms_y  \\\n",
            "0                   344700.0       39.34                  44.0         1064.0   \n",
            "1                   344700.0       38.56                  20.0         1005.0   \n",
            "2                   344700.0       38.26                  32.0         1070.0   \n",
            "3                   344700.0       38.25                  39.0          199.0   \n",
            "4                   344700.0       38.25                  37.0         1336.0   \n",
            "...                      ...         ...                   ...            ...   \n",
            "152545              500001.0       36.35                   4.0         1684.0   \n",
            "152546              500001.0       36.34                  26.0         1463.0   \n",
            "152547              500001.0       36.33                  14.0         2928.0   \n",
            "152548              500001.0       36.18                  23.0          207.0   \n",
            "152549              500001.0       34.40                  29.0         3865.0   \n",
            "\n",
            "        total_bedrooms_y  population_y  households_y  median_income_y  \\\n",
            "0                  230.0         494.0         175.0           2.8750   \n",
            "1                  168.0         457.0         157.0           5.6790   \n",
            "2                  199.0         631.0         195.0           2.6827   \n",
            "3                   36.0         101.0          38.0           6.2299   \n",
            "4                  251.0         680.0         231.0           3.8150   \n",
            "...                  ...           ...           ...              ...   \n",
            "152545             343.0         920.0         324.0           4.2396   \n",
            "152546             261.0         699.0         219.0           3.5536   \n",
            "152547             600.0        1633.0         559.0           1.8385   \n",
            "152548              45.0         171.0          50.0           2.4286   \n",
            "152549             814.0        1266.0         613.0           6.0069   \n",
            "\n",
            "        median_house_value_y  \n",
            "0                    61500.0  \n",
            "1                   225000.0  \n",
            "2                    98900.0  \n",
            "3                   105400.0  \n",
            "4                    99000.0  \n",
            "...                      ...  \n",
            "152545               90600.0  \n",
            "152546               71400.0  \n",
            "152547               67500.0  \n",
            "152548              100000.0  \n",
            "152549              500001.0  \n",
            "\n",
            "[152550 rows x 17 columns]\n"
          ]
        }
      ]
    },
    {
      "cell_type": "markdown",
      "source": [],
      "metadata": {
        "id": "EuTVilktr8zl"
      }
    }
  ]
}